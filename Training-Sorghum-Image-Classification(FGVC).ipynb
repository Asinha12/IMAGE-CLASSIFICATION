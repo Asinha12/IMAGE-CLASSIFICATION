{
 "cells": [
  {
   "cell_type": "code",
   "execution_count": 1,
   "id": "179782e3",
   "metadata": {
    "execution": {
     "iopub.execute_input": "2022-05-28T02:06:59.847101Z",
     "iopub.status.busy": "2022-05-28T02:06:59.846488Z",
     "iopub.status.idle": "2022-05-28T02:07:04.809732Z",
     "shell.execute_reply": "2022-05-28T02:07:04.808957Z"
    },
    "papermill": {
     "duration": 4.990618,
     "end_time": "2022-05-28T02:07:04.812385",
     "exception": false,
     "start_time": "2022-05-28T02:06:59.821767",
     "status": "completed"
    },
    "tags": []
   },
   "outputs": [],
   "source": [
    "import pandas as pd\n",
    "import numpy as np\n",
    "import tensorflow as tf\n",
    "from tensorflow import keras\n",
    "import gc\n",
    "import os\n"
   ]
  },
  {
   "cell_type": "markdown",
   "id": "15925c64",
   "metadata": {
    "papermill": {
     "duration": 0.02146,
     "end_time": "2022-05-28T02:07:04.856034",
     "exception": false,
     "start_time": "2022-05-28T02:07:04.834574",
     "status": "completed"
    },
    "tags": []
   },
   "source": [
    "## READING AND EXPLORING DATA"
   ]
  },
  {
   "cell_type": "code",
   "execution_count": 2,
   "id": "dfadb536",
   "metadata": {
    "execution": {
     "iopub.execute_input": "2022-05-28T02:07:04.900951Z",
     "iopub.status.busy": "2022-05-28T02:07:04.900698Z",
     "iopub.status.idle": "2022-05-28T02:07:04.936510Z",
     "shell.execute_reply": "2022-05-28T02:07:04.935813Z"
    },
    "papermill": {
     "duration": 0.060561,
     "end_time": "2022-05-28T02:07:04.938370",
     "exception": false,
     "start_time": "2022-05-28T02:07:04.877809",
     "status": "completed"
    },
    "tags": []
   },
   "outputs": [],
   "source": [
    "train= pd.read_csv('../input/sorghum-id-fgvc-9/train_cultivar_mapping.csv')"
   ]
  },
  {
   "cell_type": "code",
   "execution_count": 3,
   "id": "d0d25061",
   "metadata": {
    "execution": {
     "iopub.execute_input": "2022-05-28T02:07:04.984538Z",
     "iopub.status.busy": "2022-05-28T02:07:04.983844Z",
     "iopub.status.idle": "2022-05-28T02:07:04.999436Z",
     "shell.execute_reply": "2022-05-28T02:07:04.998779Z"
    },
    "papermill": {
     "duration": 0.040859,
     "end_time": "2022-05-28T02:07:05.001251",
     "exception": false,
     "start_time": "2022-05-28T02:07:04.960392",
     "status": "completed"
    },
    "tags": []
   },
   "outputs": [
    {
     "data": {
      "text/plain": [
       "image       0\n",
       "cultivar    1\n",
       "dtype: int64"
      ]
     },
     "execution_count": 3,
     "metadata": {},
     "output_type": "execute_result"
    }
   ],
   "source": [
    "train.isnull().sum()"
   ]
  },
  {
   "cell_type": "code",
   "execution_count": 4,
   "id": "d6cca5ae",
   "metadata": {
    "execution": {
     "iopub.execute_input": "2022-05-28T02:07:05.046966Z",
     "iopub.status.busy": "2022-05-28T02:07:05.046764Z",
     "iopub.status.idle": "2022-05-28T02:07:05.049882Z",
     "shell.execute_reply": "2022-05-28T02:07:05.049265Z"
    },
    "papermill": {
     "duration": 0.027268,
     "end_time": "2022-05-28T02:07:05.051453",
     "exception": false,
     "start_time": "2022-05-28T02:07:05.024185",
     "status": "completed"
    },
    "tags": []
   },
   "outputs": [],
   "source": [
    "train_dir='../input/sorghum-id-fgvc-9/train_images/'"
   ]
  },
  {
   "cell_type": "code",
   "execution_count": 5,
   "id": "3f008207",
   "metadata": {
    "execution": {
     "iopub.execute_input": "2022-05-28T02:07:05.098292Z",
     "iopub.status.busy": "2022-05-28T02:07:05.097943Z",
     "iopub.status.idle": "2022-05-28T02:07:06.480158Z",
     "shell.execute_reply": "2022-05-28T02:07:06.479466Z"
    },
    "papermill": {
     "duration": 1.406979,
     "end_time": "2022-05-28T02:07:06.482404",
     "exception": false,
     "start_time": "2022-05-28T02:07:05.075425",
     "status": "completed"
    },
    "tags": []
   },
   "outputs": [
    {
     "name": "stdout",
     "output_type": "stream",
     "text": [
      "Each image has shape: (1024, 1024, 3)\n",
      "The maximum pixel value used is: 255.0\n"
     ]
    }
   ],
   "source": [
    "from tensorflow.keras.preprocessing.image import img_to_array, load_img\n",
    "\n",
    "sample_image  = load_img(f\"{os.path.join(train_dir, os.listdir(train_dir)[0])}\")\n",
    "sample_array = img_to_array(sample_image)\n",
    "\n",
    "print(f\"Each image has shape: {sample_array.shape}\")\n",
    "\n",
    "print(f\"The maximum pixel value used is: {np.max(sample_array)}\")"
   ]
  },
  {
   "cell_type": "code",
   "execution_count": 6,
   "id": "aef4f00c",
   "metadata": {
    "execution": {
     "iopub.execute_input": "2022-05-28T02:07:06.528901Z",
     "iopub.status.busy": "2022-05-28T02:07:06.528685Z",
     "iopub.status.idle": "2022-05-28T02:07:06.540621Z",
     "shell.execute_reply": "2022-05-28T02:07:06.539966Z"
    },
    "papermill": {
     "duration": 0.036888,
     "end_time": "2022-05-28T02:07:06.542251",
     "exception": false,
     "start_time": "2022-05-28T02:07:06.505363",
     "status": "completed"
    },
    "tags": []
   },
   "outputs": [],
   "source": [
    "train=train.dropna(axis=0)"
   ]
  },
  {
   "cell_type": "code",
   "execution_count": 7,
   "id": "153fd36a",
   "metadata": {
    "execution": {
     "iopub.execute_input": "2022-05-28T02:07:06.588617Z",
     "iopub.status.busy": "2022-05-28T02:07:06.588107Z",
     "iopub.status.idle": "2022-05-28T02:07:07.969834Z",
     "shell.execute_reply": "2022-05-28T02:07:07.969050Z"
    },
    "papermill": {
     "duration": 1.407085,
     "end_time": "2022-05-28T02:07:07.971771",
     "exception": false,
     "start_time": "2022-05-28T02:07:06.564686",
     "status": "completed"
    },
    "tags": []
   },
   "outputs": [
    {
     "data": {
      "text/plain": [
       "<AxesSubplot:>"
      ]
     },
     "execution_count": 7,
     "metadata": {},
     "output_type": "execute_result"
    },
    {
     "data": {
      "image/png": "[encoded data removed]",
      "text/plain": [
       "<Figure size 1008x432 with 1 Axes>"
      ]
     },
     "metadata": {
      "needs_background": "light"
     },
     "output_type": "display_data"
    }
   ],
   "source": [
    "# iMAGES UNDER EACH LABEL\n",
    "train['cultivar'].value_counts().plot(kind='bar', figsize=(14,6))"
   ]
  },
  {
   "cell_type": "code",
   "execution_count": 8,
   "id": "a670470d",
   "metadata": {
    "execution": {
     "iopub.execute_input": "2022-05-28T02:07:08.032002Z",
     "iopub.status.busy": "2022-05-28T02:07:08.031755Z",
     "iopub.status.idle": "2022-05-28T02:07:08.037211Z",
     "shell.execute_reply": "2022-05-28T02:07:08.036274Z"
    },
    "papermill": {
     "duration": 0.037763,
     "end_time": "2022-05-28T02:07:08.039108",
     "exception": false,
     "start_time": "2022-05-28T02:07:08.001345",
     "status": "completed"
    },
    "tags": []
   },
   "outputs": [],
   "source": [
    "train['cultivar']=train['cultivar'].astype(str)"
   ]
  },
  {
   "cell_type": "code",
   "execution_count": 9,
   "id": "a476027f",
   "metadata": {
    "execution": {
     "iopub.execute_input": "2022-05-28T02:07:08.097430Z",
     "iopub.status.busy": "2022-05-28T02:07:08.096685Z",
     "iopub.status.idle": "2022-05-28T02:07:08.122010Z",
     "shell.execute_reply": "2022-05-28T02:07:08.121377Z"
    },
    "papermill": {
     "duration": 0.056627,
     "end_time": "2022-05-28T02:07:08.123919",
     "exception": false,
     "start_time": "2022-05-28T02:07:08.067292",
     "status": "completed"
    },
    "tags": []
   },
   "outputs": [],
   "source": [
    "labels=list(np.unique(train['cultivar']))"
   ]
  },
  {
   "cell_type": "markdown",
   "id": "931aed8f",
   "metadata": {
    "papermill": {
     "duration": 0.023458,
     "end_time": "2022-05-28T02:07:08.171220",
     "exception": false,
     "start_time": "2022-05-28T02:07:08.147762",
     "status": "completed"
    },
    "tags": []
   },
   "source": [
    "## CREATING TRAIN AND VALIDATION SETS"
   ]
  },
  {
   "cell_type": "markdown",
   "id": "753c7527",
   "metadata": {
    "papermill": {
     "duration": 0.023922,
     "end_time": "2022-05-28T02:07:08.219629",
     "exception": false,
     "start_time": "2022-05-28T02:07:08.195707",
     "status": "completed"
    },
    "tags": []
   },
   "source": [
    "#### AUGMENTATION"
   ]
  },
  {
   "cell_type": "code",
   "execution_count": 10,
   "id": "0f637c16",
   "metadata": {
    "execution": {
     "iopub.execute_input": "2022-05-28T02:07:08.269419Z",
     "iopub.status.busy": "2022-05-28T02:07:08.268733Z",
     "iopub.status.idle": "2022-05-28T02:07:08.273068Z",
     "shell.execute_reply": "2022-05-28T02:07:08.272401Z"
    },
    "papermill": {
     "duration": 0.030659,
     "end_time": "2022-05-28T02:07:08.274733",
     "exception": false,
     "start_time": "2022-05-28T02:07:08.244074",
     "status": "completed"
    },
    "tags": []
   },
   "outputs": [],
   "source": [
    "from keras.preprocessing.image import ImageDataGenerator\n",
    "\n",
    "train_datagen = ImageDataGenerator( rotation_range=.20,      \n",
    "            shear_range=0.7,  \n",
    "                                   \n",
    "            horizontal_flip=True,         \n",
    "            validation_split=0.2\n",
    ")\n"
   ]
  },
  {
   "cell_type": "code",
   "execution_count": 11,
   "id": "2c3b3779",
   "metadata": {
    "execution": {
     "iopub.execute_input": "2022-05-28T02:07:08.323911Z",
     "iopub.status.busy": "2022-05-28T02:07:08.323288Z",
     "iopub.status.idle": "2022-05-28T02:07:26.673329Z",
     "shell.execute_reply": "2022-05-28T02:07:26.672580Z"
    },
    "papermill": {
     "duration": 18.376835,
     "end_time": "2022-05-28T02:07:26.675429",
     "exception": false,
     "start_time": "2022-05-28T02:07:08.298594",
     "status": "completed"
    },
    "tags": []
   },
   "outputs": [
    {
     "name": "stdout",
     "output_type": "stream",
     "text": [
      "Found 17755 validated image filenames belonging to 100 classes.\n"
     ]
    }
   ],
   "source": [
    "train_generator = train_datagen.flow_from_dataframe(\n",
    "    dataframe=train,\n",
    "    directory=train_dir,\n",
    "    x_col='image',\n",
    "    y_col='cultivar',\n",
    "    color_mode='rgb',\n",
    "    class_mode='categorical',\n",
    "    classes=labels,\n",
    "\n",
    "    \n",
    "    target_size=(256, 256),\n",
    "    batch_size=32,\n",
    "    subset='training',\n",
    "    shuffle=True\n",
    ")"
   ]
  },
  {
   "cell_type": "code",
   "execution_count": 12,
   "id": "bf877144",
   "metadata": {
    "execution": {
     "iopub.execute_input": "2022-05-28T02:07:26.725531Z",
     "iopub.status.busy": "2022-05-28T02:07:26.725295Z",
     "iopub.status.idle": "2022-05-28T02:07:34.297601Z",
     "shell.execute_reply": "2022-05-28T02:07:34.296791Z"
    },
    "papermill": {
     "duration": 7.600807,
     "end_time": "2022-05-28T02:07:34.300552",
     "exception": false,
     "start_time": "2022-05-28T02:07:26.699745",
     "status": "completed"
    },
    "tags": []
   },
   "outputs": [
    {
     "name": "stdout",
     "output_type": "stream",
     "text": [
      "Found 4438 validated image filenames belonging to 100 classes.\n"
     ]
    }
   ],
   "source": [
    "valid_generator = train_datagen.flow_from_dataframe(\n",
    "    dataframe=train,\n",
    "    directory=train_dir,\n",
    "    x_col='image',\n",
    "    y_col='cultivar',\n",
    "    color_mode='rgb',\n",
    "   \n",
    "    class_mode='categorical',\n",
    "    classes=labels,\n",
    "    target_size=(256, 256),\n",
    "    batch_size=32,\n",
    "    subset='validation',\n",
    "    shuffle=True\n",
    ")"
   ]
  },
  {
   "cell_type": "code",
   "execution_count": 13,
   "id": "65f81aed",
   "metadata": {
    "execution": {
     "iopub.execute_input": "2022-05-28T02:07:34.399652Z",
     "iopub.status.busy": "2022-05-28T02:07:34.399300Z",
     "iopub.status.idle": "2022-05-28T02:07:34.635488Z",
     "shell.execute_reply": "2022-05-28T02:07:34.634833Z"
    },
    "papermill": {
     "duration": 0.286397,
     "end_time": "2022-05-28T02:07:34.637224",
     "exception": false,
     "start_time": "2022-05-28T02:07:34.350827",
     "status": "completed"
    },
    "tags": []
   },
   "outputs": [
    {
     "data": {
      "text/plain": [
       "174"
      ]
     },
     "execution_count": 13,
     "metadata": {},
     "output_type": "execute_result"
    }
   ],
   "source": [
    "gc.collect()"
   ]
  },
  {
   "cell_type": "markdown",
   "id": "cb42eeb9",
   "metadata": {
    "papermill": {
     "duration": 0.024615,
     "end_time": "2022-05-28T02:07:34.686952",
     "exception": false,
     "start_time": "2022-05-28T02:07:34.662337",
     "status": "completed"
    },
    "tags": []
   },
   "source": [
    "## PRE-TRAINED MODEL EFFICIENTNET B2"
   ]
  },
  {
   "cell_type": "code",
   "execution_count": 14,
   "id": "bb7784fb",
   "metadata": {
    "execution": {
     "iopub.execute_input": "2022-05-28T02:07:34.737422Z",
     "iopub.status.busy": "2022-05-28T02:07:34.737201Z",
     "iopub.status.idle": "2022-05-28T02:07:39.026510Z",
     "shell.execute_reply": "2022-05-28T02:07:39.025757Z"
    },
    "papermill": {
     "duration": 4.317043,
     "end_time": "2022-05-28T02:07:39.028597",
     "exception": false,
     "start_time": "2022-05-28T02:07:34.711554",
     "status": "completed"
    },
    "tags": []
   },
   "outputs": [
    {
     "name": "stderr",
     "output_type": "stream",
     "text": [
      "2022-05-28 02:07:34.846580: I tensorflow/stream_executor/cuda/cuda_gpu_executor.cc:937] successful NUMA node read from SysFS had negative value (-1), but there must be at least one NUMA node, so returning NUMA node zero\n",
      "2022-05-28 02:07:34.949669: I tensorflow/stream_executor/cuda/cuda_gpu_executor.cc:937] successful NUMA node read from SysFS had negative value (-1), but there must be at least one NUMA node, so returning NUMA node zero\n",
      "2022-05-28 02:07:34.950413: I tensorflow/stream_executor/cuda/cuda_gpu_executor.cc:937] successful NUMA node read from SysFS had negative value (-1), but there must be at least one NUMA node, so returning NUMA node zero\n",
      "2022-05-28 02:07:34.951533: I tensorflow/core/platform/cpu_feature_guard.cc:142] This TensorFlow binary is optimized with oneAPI Deep Neural Network Library (oneDNN) to use the following CPU instructions in performance-critical operations:  AVX2 AVX512F FMA\n",
      "To enable them in other operations, rebuild TensorFlow with the appropriate compiler flags.\n",
      "2022-05-28 02:07:34.951840: I tensorflow/stream_executor/cuda/cuda_gpu_executor.cc:937] successful NUMA node read from SysFS had negative value (-1), but there must be at least one NUMA node, so returning NUMA node zero\n",
      "2022-05-28 02:07:34.952600: I tensorflow/stream_executor/cuda/cuda_gpu_executor.cc:937] successful NUMA node read from SysFS had negative value (-1), but there must be at least one NUMA node, so returning NUMA node zero\n",
      "2022-05-28 02:07:34.953304: I tensorflow/stream_executor/cuda/cuda_gpu_executor.cc:937] successful NUMA node read from SysFS had negative value (-1), but there must be at least one NUMA node, so returning NUMA node zero\n",
      "2022-05-28 02:07:37.141144: I tensorflow/stream_executor/cuda/cuda_gpu_executor.cc:937] successful NUMA node read from SysFS had negative value (-1), but there must be at least one NUMA node, so returning NUMA node zero\n",
      "2022-05-28 02:07:37.142052: I tensorflow/stream_executor/cuda/cuda_gpu_executor.cc:937] successful NUMA node read from SysFS had negative value (-1), but there must be at least one NUMA node, so returning NUMA node zero\n",
      "2022-05-28 02:07:37.142797: I tensorflow/stream_executor/cuda/cuda_gpu_executor.cc:937] successful NUMA node read from SysFS had negative value (-1), but there must be at least one NUMA node, so returning NUMA node zero\n",
      "2022-05-28 02:07:37.144319: I tensorflow/core/common_runtime/gpu/gpu_device.cc:1510] Created device /job:localhost/replica:0/task:0/device:GPU:0 with 15403 MB memory:  -> device: 0, name: Tesla P100-PCIE-16GB, pci bus id: 0000:00:04.0, compute capability: 6.0\n"
     ]
    },
    {
     "name": "stdout",
     "output_type": "stream",
     "text": [
      "Downloading data from https://storage.googleapis.com/tensorflow/keras-applications/xception/xception_weights_tf_dim_ordering_tf_kernels_notop.h5\n",
      "83689472/83683744 [==============================] - 0s 0us/step\n",
      "83697664/83683744 [==============================] - 0s 0us/step\n"
     ]
    }
   ],
   "source": [
    "from tensorflow.keras.applications import Xception\n",
    "from tensorflow.keras import layers\n",
    "\n",
    "\n",
    "pre_trained_model =Xception(include_top=False, weights='imagenet', input_shape=(256,256,3))\n",
    "#pre_trained_model.trainable = False\n"
   ]
  },
  {
   "cell_type": "code",
   "execution_count": 15,
   "id": "5a2fc033",
   "metadata": {
    "execution": {
     "iopub.execute_input": "2022-05-28T02:07:39.097665Z",
     "iopub.status.busy": "2022-05-28T02:07:39.097430Z",
     "iopub.status.idle": "2022-05-28T02:07:39.101051Z",
     "shell.execute_reply": "2022-05-28T02:07:39.100396Z"
    },
    "papermill": {
     "duration": 0.043808,
     "end_time": "2022-05-28T02:07:39.102839",
     "exception": false,
     "start_time": "2022-05-28T02:07:39.059031",
     "status": "completed"
    },
    "tags": []
   },
   "outputs": [],
   "source": [
    "#stateless_random_crop = tf.image.stateless_random_crop(image, size=[210, 300, 3], seed=seed)\n",
    "preprocess_input =tf.keras.applications.xception.preprocess_input"
   ]
  },
  {
   "cell_type": "code",
   "execution_count": 16,
   "id": "4eed1e27",
   "metadata": {
    "execution": {
     "iopub.execute_input": "2022-05-28T02:07:39.162268Z",
     "iopub.status.busy": "2022-05-28T02:07:39.161712Z",
     "iopub.status.idle": "2022-05-28T02:07:39.178850Z",
     "shell.execute_reply": "2022-05-28T02:07:39.178252Z"
    },
    "papermill": {
     "duration": 0.048736,
     "end_time": "2022-05-28T02:07:39.180567",
     "exception": false,
     "start_time": "2022-05-28T02:07:39.131831",
     "status": "completed"
    },
    "tags": []
   },
   "outputs": [],
   "source": [
    "data_augmentation = tf.keras.Sequential([\n",
    "  layers.RandomContrast(.2),\n",
    "  layers.RandomTranslation(height_factor=.1, width_factor=.30),\n",
    "])"
   ]
  },
  {
   "cell_type": "code",
   "execution_count": 17,
   "id": "b953fc80",
   "metadata": {
    "execution": {
     "iopub.execute_input": "2022-05-28T02:07:39.239796Z",
     "iopub.status.busy": "2022-05-28T02:07:39.239565Z",
     "iopub.status.idle": "2022-05-28T02:07:39.356109Z",
     "shell.execute_reply": "2022-05-28T02:07:39.355422Z"
    },
    "papermill": {
     "duration": 0.148647,
     "end_time": "2022-05-28T02:07:39.358105",
     "exception": false,
     "start_time": "2022-05-28T02:07:39.209458",
     "status": "completed"
    },
    "tags": []
   },
   "outputs": [],
   "source": [
    "import tensorflow_addons as tfa\n",
    "     \n",
    "batch_size = 32\n",
    "epochs = 10\n",
    "init_lr = 1e-4\n",
    "max_lr = 1e-2\n",
    "        \n",
    "steps_per_epoch = len(train_generator)\n",
    "clr = tfa.optimizers.CyclicalLearningRate(initial_learning_rate=init_lr,\n",
    "        maximal_learning_rate=max_lr,\n",
    "        scale_fn=lambda x: 1/(2.**(x-1)),\n",
    "        step_size=2 * steps_per_epoch)"
   ]
  },
  {
   "cell_type": "code",
   "execution_count": 18,
   "id": "34bd9d2d",
   "metadata": {
    "execution": {
     "iopub.execute_input": "2022-05-28T02:07:39.418588Z",
     "iopub.status.busy": "2022-05-28T02:07:39.418353Z",
     "iopub.status.idle": "2022-05-28T02:07:39.860780Z",
     "shell.execute_reply": "2022-05-28T02:07:39.860072Z"
    },
    "papermill": {
     "duration": 0.475289,
     "end_time": "2022-05-28T02:07:39.863013",
     "exception": false,
     "start_time": "2022-05-28T02:07:39.387724",
     "status": "completed"
    },
    "tags": []
   },
   "outputs": [],
   "source": [
    "from tensorflow.keras import Model\n",
    "\n",
    "\n",
    "inputs = keras.Input(shape=(256, 256, 3))\n",
    "\n",
    "x=preprocess_input(inputs)\n",
    "x=data_augmentation(x)\n",
    "x = pre_trained_model(x)\n",
    "x =  layers.GlobalAveragePooling2D()(x)\n",
    "x = layers.Dropout(0.2)(x)\n",
    "x= layers.Dense  (100, activation='softmax')(x)           \n",
    "\n",
    "model = Model(inputs, x) \n",
    "\n",
    "\n",
    "optimizer=tf.keras.optimizers.Adam(learning_rate=clr)\n",
    "model.compile(loss='categorical_crossentropy', optimizer=optimizer, metrics=['accuracy'])"
   ]
  },
  {
   "cell_type": "code",
   "execution_count": 19,
   "id": "e858b378",
   "metadata": {
    "execution": {
     "iopub.execute_input": "2022-05-28T02:07:39.921688Z",
     "iopub.status.busy": "2022-05-28T02:07:39.921485Z",
     "iopub.status.idle": "2022-05-28T02:07:39.925742Z",
     "shell.execute_reply": "2022-05-28T02:07:39.925065Z"
    },
    "papermill": {
     "duration": 0.035313,
     "end_time": "2022-05-28T02:07:39.927371",
     "exception": false,
     "start_time": "2022-05-28T02:07:39.892058",
     "status": "completed"
    },
    "tags": []
   },
   "outputs": [],
   "source": [
    "check_point_best= keras.callbacks.ModelCheckpoint('keras_model.h5',save_best_only = True)"
   ]
  },
  {
   "cell_type": "code",
   "execution_count": 20,
   "id": "9b51cae8",
   "metadata": {
    "execution": {
     "iopub.execute_input": "2022-05-28T02:07:39.985866Z",
     "iopub.status.busy": "2022-05-28T02:07:39.985608Z",
     "iopub.status.idle": "2022-05-28T02:07:40.166726Z",
     "shell.execute_reply": "2022-05-28T02:07:40.166034Z"
    },
    "papermill": {
     "duration": 0.212399,
     "end_time": "2022-05-28T02:07:40.168478",
     "exception": false,
     "start_time": "2022-05-28T02:07:39.956079",
     "status": "completed"
    },
    "tags": []
   },
   "outputs": [
    {
     "data": {
      "text/plain": [
       "7760"
      ]
     },
     "execution_count": 20,
     "metadata": {},
     "output_type": "execute_result"
    }
   ],
   "source": [
    "gc.collect()"
   ]
  },
  {
   "cell_type": "code",
   "execution_count": 21,
   "id": "62db7590",
   "metadata": {
    "execution": {
     "iopub.execute_input": "2022-05-28T02:07:40.229268Z",
     "iopub.status.busy": "2022-05-28T02:07:40.228818Z",
     "iopub.status.idle": "2022-05-28T04:46:00.759782Z",
     "shell.execute_reply": "2022-05-28T04:46:00.757716Z"
    },
    "papermill": {
     "duration": 9500.565545,
     "end_time": "2022-05-28T04:46:00.763617",
     "exception": false,
     "start_time": "2022-05-28T02:07:40.198072",
     "status": "completed"
    },
    "tags": []
   },
   "outputs": [
    {
     "name": "stderr",
     "output_type": "stream",
     "text": [
      "2022-05-28 02:07:42.323925: I tensorflow/compiler/mlir/mlir_graph_optimization_pass.cc:185] None of the MLIR Optimization Passes are enabled (registered 2)\n"
     ]
    },
    {
     "name": "stdout",
     "output_type": "stream",
     "text": [
      "Epoch 1/7\n"
     ]
    },
    {
     "name": "stderr",
     "output_type": "stream",
     "text": [
      "2022-05-28 02:07:49.617097: I tensorflow/stream_executor/cuda/cuda_dnn.cc:369] Loaded cuDNN version 8005\n"
     ]
    },
    {
     "name": "stdout",
     "output_type": "stream",
     "text": [
      "555/555 [==============================] - 1315s 2s/step - loss: 3.2659 - accuracy: 0.1974 - val_loss: 22.7019 - val_accuracy: 0.0388\n"
     ]
    },
    {
     "name": "stderr",
     "output_type": "stream",
     "text": [
      "/opt/conda/lib/python3.7/site-packages/keras/utils/generic_utils.py:497: CustomMaskWarning: Custom mask layers require a config and must override get_config. When loading, the custom mask layer must be passed to the custom_objects argument.\n",
      "  category=CustomMaskWarning)\n"
     ]
    },
    {
     "name": "stdout",
     "output_type": "stream",
     "text": [
      "Epoch 2/7\n",
      "555/555 [==============================] - 1331s 2s/step - loss: 2.4998 - accuracy: 0.3288 - val_loss: 39.6701 - val_accuracy: 0.0288\n",
      "Epoch 3/7\n",
      "555/555 [==============================] - 1329s 2s/step - loss: 1.7777 - accuracy: 0.4919 - val_loss: 7.2560 - val_accuracy: 0.2059\n",
      "Epoch 4/7\n",
      "555/555 [==============================] - 1366s 2s/step - loss: 0.9032 - accuracy: 0.7156 - val_loss: 0.4938 - val_accuracy: 0.8405\n",
      "Epoch 5/7\n",
      "555/555 [==============================] - 1387s 2s/step - loss: 0.6097 - accuracy: 0.8068 - val_loss: 2.4068 - val_accuracy: 0.4540\n",
      "Epoch 6/7\n",
      "555/555 [==============================] - 1305s 2s/step - loss: 0.9185 - accuracy: 0.7141 - val_loss: 5.8074 - val_accuracy: 0.2053\n",
      "Epoch 7/7\n",
      "555/555 [==============================] - 1348s 2s/step - loss: 0.7977 - accuracy: 0.7500 - val_loss: 1.6285 - val_accuracy: 0.5726\n"
     ]
    }
   ],
   "source": [
    "history=model.fit(train_generator,  validation_data=valid_generator, epochs=7, callbacks=check_point_best)"
   ]
  },
  {
   "cell_type": "markdown",
   "id": "aa75de5f",
   "metadata": {
    "papermill": {
     "duration": 1.234848,
     "end_time": "2022-05-28T04:46:03.222561",
     "exception": false,
     "start_time": "2022-05-28T04:46:01.987713",
     "status": "completed"
    },
    "tags": []
   },
   "source": [
    "## PLOTTING  ACCURACY"
   ]
  },
  {
   "cell_type": "code",
   "execution_count": 22,
   "id": "97617dc3",
   "metadata": {
    "execution": {
     "iopub.execute_input": "2022-05-28T04:46:05.752676Z",
     "iopub.status.busy": "2022-05-28T04:46:05.751609Z",
     "iopub.status.idle": "2022-05-28T04:46:05.993804Z",
     "shell.execute_reply": "2022-05-28T04:46:05.993174Z"
    },
    "papermill": {
     "duration": 1.48408,
     "end_time": "2022-05-28T04:46:05.995529",
     "exception": false,
     "start_time": "2022-05-28T04:46:04.511449",
     "status": "completed"
    },
    "tags": []
   },
   "outputs": [
    {
     "data": {
      "text/plain": [
       "Text(0.5, 1.0, 'Training and Validation Accuracy')"
      ]
     },
     "execution_count": 22,
     "metadata": {},
     "output_type": "execute_result"
    },
    {
     "data": {
      "image/png": "[encoded data removed]",
      "text/plain": [
       "<Figure size 576x576 with 1 Axes>"
      ]
     },
     "metadata": {
      "needs_background": "light"
     },
     "output_type": "display_data"
    }
   ],
   "source": [
    "import matplotlib.pyplot as plt\n",
    "\n",
    "acc = history.history['accuracy']\n",
    "val_acc = history.history['val_accuracy']\n",
    "\n",
    "loss = history.history['loss']\n",
    "val_loss = history.history['val_loss']\n",
    "\n",
    "plt.figure(figsize=(8, 8))\n",
    "plt.subplot(2, 1, 1)\n",
    "plt.plot(acc, label='Training Accuracy')\n",
    "plt.plot(val_acc, label='Validation Accuracy')\n",
    "plt.legend(loc='lower right')\n",
    "plt.ylabel('Accuracy')\n",
    "plt.ylim([min(plt.ylim()),1])\n",
    "plt.title('Training and Validation Accuracy')\n",
    "\n"
   ]
  },
  {
   "cell_type": "markdown",
   "id": "b2f40da2",
   "metadata": {
    "papermill": {
     "duration": 1.251802,
     "end_time": "2022-05-28T04:46:08.490176",
     "exception": false,
     "start_time": "2022-05-28T04:46:07.238374",
     "status": "completed"
    },
    "tags": []
   },
   "source": [
    "### TEST PREDICTIONS"
   ]
  }
 ],
 "metadata": {
  "kernelspec": {
   "display_name": "Python 3",
   "language": "python",
   "name": "python3"
  },
  "language_info": {
   "codemirror_mode": {
    "name": "ipython",
    "version": 3
   },
   "file_extension": ".py",
   "mimetype": "text/x-python",
   "name": "python",
   "nbconvert_exporter": "python",
   "pygments_lexer": "ipython3",
   "version": "3.7.12"
  },
  "papermill": {
   "default_parameters": {},
   "duration": 9561.166115,
   "end_time": "2022-05-28T04:46:12.808980",
   "environment_variables": {},
   "exception": null,
   "input_path": "__notebook__.ipynb",
   "output_path": "__notebook__.ipynb",
   "parameters": {},
   "start_time": "2022-05-28T02:06:51.642865",
   "version": "2.3.4"
  }
 },
 "nbformat": 4,
 "nbformat_minor": 5
}
