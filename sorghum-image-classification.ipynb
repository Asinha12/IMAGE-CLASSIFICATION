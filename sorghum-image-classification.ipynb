{
 "cells": [
  {
   "cell_type": "code",
   "execution_count": 1,
   "id": "bb106236",
   "metadata": {
    "execution": {
     "iopub.execute_input": "2022-05-28T06:06:08.369590Z",
     "iopub.status.busy": "2022-05-28T06:06:08.369226Z",
     "iopub.status.idle": "2022-05-28T06:06:12.666991Z",
     "shell.execute_reply": "2022-05-28T06:06:12.666259Z"
    },
    "papermill": {
     "duration": 4.347326,
     "end_time": "2022-05-28T06:06:12.669496",
     "exception": false,
     "start_time": "2022-05-28T06:06:08.322170",
     "status": "completed"
    },
    "tags": []
   },
   "outputs": [],
   "source": [
    "import pandas as pd\n",
    "import numpy as np\n",
    "import tensorflow as tf\n",
    "from tensorflow import keras\n",
    "import gc\n",
    "import os\n"
   ]
  },
  {
   "cell_type": "markdown",
   "id": "e9664d2d",
   "metadata": {
    "papermill": {
     "duration": 0.021975,
     "end_time": "2022-05-28T06:06:12.713896",
     "exception": false,
     "start_time": "2022-05-28T06:06:12.691921",
     "status": "completed"
    },
    "tags": []
   },
   "source": [
    "## READING AND EXPLORING DATA"
   ]
  },
  {
   "cell_type": "code",
   "execution_count": 2,
   "id": "f836b243",
   "metadata": {
    "execution": {
     "iopub.execute_input": "2022-05-28T06:06:12.758554Z",
     "iopub.status.busy": "2022-05-28T06:06:12.758349Z",
     "iopub.status.idle": "2022-05-28T06:06:12.792763Z",
     "shell.execute_reply": "2022-05-28T06:06:12.792134Z"
    },
    "papermill": {
     "duration": 0.058825,
     "end_time": "2022-05-28T06:06:12.794573",
     "exception": false,
     "start_time": "2022-05-28T06:06:12.735748",
     "status": "completed"
    },
    "tags": []
   },
   "outputs": [],
   "source": [
    "train= pd.read_csv('../input/sorghum-id-fgvc-9/train_cultivar_mapping.csv')"
   ]
  },
  {
   "cell_type": "code",
   "execution_count": 3,
   "id": "5a7bb228",
   "metadata": {
    "execution": {
     "iopub.execute_input": "2022-05-28T06:06:12.840834Z",
     "iopub.status.busy": "2022-05-28T06:06:12.840642Z",
     "iopub.status.idle": "2022-05-28T06:06:12.855388Z",
     "shell.execute_reply": "2022-05-28T06:06:12.854763Z"
    },
    "papermill": {
     "duration": 0.040439,
     "end_time": "2022-05-28T06:06:12.857107",
     "exception": false,
     "start_time": "2022-05-28T06:06:12.816668",
     "status": "completed"
    },
    "tags": []
   },
   "outputs": [
    {
     "data": {
      "text/plain": [
       "image       0\n",
       "cultivar    1\n",
       "dtype: int64"
      ]
     },
     "execution_count": 3,
     "metadata": {},
     "output_type": "execute_result"
    }
   ],
   "source": [
    "train.isnull().sum()"
   ]
  },
  {
   "cell_type": "code",
   "execution_count": 4,
   "id": "2f6ee784",
   "metadata": {
    "execution": {
     "iopub.execute_input": "2022-05-28T06:06:12.905030Z",
     "iopub.status.busy": "2022-05-28T06:06:12.904818Z",
     "iopub.status.idle": "2022-05-28T06:06:12.907781Z",
     "shell.execute_reply": "2022-05-28T06:06:12.907147Z"
    },
    "papermill": {
     "duration": 0.02963,
     "end_time": "2022-05-28T06:06:12.909435",
     "exception": false,
     "start_time": "2022-05-28T06:06:12.879805",
     "status": "completed"
    },
    "tags": []
   },
   "outputs": [],
   "source": [
    "train_dir='../input/sorghum-id-fgvc-9/train_images/'"
   ]
  },
  {
   "cell_type": "code",
   "execution_count": 5,
   "id": "09290bdd",
   "metadata": {
    "execution": {
     "iopub.execute_input": "2022-05-28T06:06:12.955489Z",
     "iopub.status.busy": "2022-05-28T06:06:12.955303Z",
     "iopub.status.idle": "2022-05-28T06:06:12.966571Z",
     "shell.execute_reply": "2022-05-28T06:06:12.965986Z"
    },
    "papermill": {
     "duration": 0.036197,
     "end_time": "2022-05-28T06:06:12.968118",
     "exception": false,
     "start_time": "2022-05-28T06:06:12.931921",
     "status": "completed"
    },
    "tags": []
   },
   "outputs": [],
   "source": [
    "train=train.dropna(axis=0)"
   ]
  },
  {
   "cell_type": "code",
   "execution_count": 6,
   "id": "1968d83c",
   "metadata": {
    "execution": {
     "iopub.execute_input": "2022-05-28T06:06:13.014054Z",
     "iopub.status.busy": "2022-05-28T06:06:13.013563Z",
     "iopub.status.idle": "2022-05-28T06:06:14.388483Z",
     "shell.execute_reply": "2022-05-28T06:06:14.387786Z"
    },
    "papermill": {
     "duration": 1.399909,
     "end_time": "2022-05-28T06:06:14.390500",
     "exception": false,
     "start_time": "2022-05-28T06:06:12.990591",
     "status": "completed"
    },
    "tags": []
   },
   "outputs": [
    {
     "data": {
      "text/plain": [
       "<AxesSubplot:>"
      ]
     },
     "execution_count": 6,
     "metadata": {},
     "output_type": "execute_result"
    },
    {
     "data": {
      "image/png": "[encoded data removed]",
      "text/plain": [
       "<Figure size 1008x432 with 1 Axes>"
      ]
     },
     "metadata": {
      "needs_background": "light"
     },
     "output_type": "display_data"
    }
   ],
   "source": [
    "# iMAGES UNDER EACH LABEL\n",
    "train['cultivar'].value_counts().plot(kind='bar', figsize=(14,6))"
   ]
  },
  {
   "cell_type": "code",
   "execution_count": 7,
   "id": "108c6fa4",
   "metadata": {
    "execution": {
     "iopub.execute_input": "2022-05-28T06:06:14.439935Z",
     "iopub.status.busy": "2022-05-28T06:06:14.439720Z",
     "iopub.status.idle": "2022-05-28T06:06:14.444335Z",
     "shell.execute_reply": "2022-05-28T06:06:14.443628Z"
    },
    "papermill": {
     "duration": 0.031419,
     "end_time": "2022-05-28T06:06:14.445929",
     "exception": false,
     "start_time": "2022-05-28T06:06:14.414510",
     "status": "completed"
    },
    "tags": []
   },
   "outputs": [],
   "source": [
    "train['cultivar']=train['cultivar'].astype(str)"
   ]
  },
  {
   "cell_type": "code",
   "execution_count": 8,
   "id": "34413a3c",
   "metadata": {
    "execution": {
     "iopub.execute_input": "2022-05-28T06:06:14.495676Z",
     "iopub.status.busy": "2022-05-28T06:06:14.495136Z",
     "iopub.status.idle": "2022-05-28T06:06:14.517284Z",
     "shell.execute_reply": "2022-05-28T06:06:14.516557Z"
    },
    "papermill": {
     "duration": 0.048748,
     "end_time": "2022-05-28T06:06:14.519110",
     "exception": false,
     "start_time": "2022-05-28T06:06:14.470362",
     "status": "completed"
    },
    "tags": []
   },
   "outputs": [],
   "source": [
    "labels=list(np.unique(train['cultivar']))"
   ]
  },
  {
   "cell_type": "markdown",
   "id": "2d82779c",
   "metadata": {
    "papermill": {
     "duration": 0.0239,
     "end_time": "2022-05-28T06:06:14.566688",
     "exception": false,
     "start_time": "2022-05-28T06:06:14.542788",
     "status": "completed"
    },
    "tags": []
   },
   "source": [
    "## CREATING TRAIN AND VALIDATION SETS"
   ]
  },
  {
   "cell_type": "markdown",
   "id": "753e4f58",
   "metadata": {
    "papermill": {
     "duration": 0.023569,
     "end_time": "2022-05-28T06:06:14.615071",
     "exception": false,
     "start_time": "2022-05-28T06:06:14.591502",
     "status": "completed"
    },
    "tags": []
   },
   "source": [
    "#### AUGMENTATION"
   ]
  },
  {
   "cell_type": "code",
   "execution_count": 9,
   "id": "ecd01793",
   "metadata": {
    "execution": {
     "iopub.execute_input": "2022-05-28T06:06:14.663598Z",
     "iopub.status.busy": "2022-05-28T06:06:14.663392Z",
     "iopub.status.idle": "2022-05-28T06:06:15.205298Z",
     "shell.execute_reply": "2022-05-28T06:06:15.204553Z"
    },
    "papermill": {
     "duration": 0.568844,
     "end_time": "2022-05-28T06:06:15.207686",
     "exception": false,
     "start_time": "2022-05-28T06:06:14.638842",
     "status": "completed"
    },
    "tags": []
   },
   "outputs": [],
   "source": [
    "from keras.preprocessing.image import ImageDataGenerator\n",
    "\n",
    "train_datagen = ImageDataGenerator( rotation_range=.20,      \n",
    "            shear_range=0.7,  \n",
    "                                   \n",
    "            horizontal_flip=True,         \n",
    "            validation_split=0.2\n",
    ")\n"
   ]
  },
  {
   "cell_type": "code",
   "execution_count": 10,
   "id": "21282eef",
   "metadata": {
    "execution": {
     "iopub.execute_input": "2022-05-28T06:06:15.257913Z",
     "iopub.status.busy": "2022-05-28T06:06:15.257695Z",
     "iopub.status.idle": "2022-05-28T06:06:38.239932Z",
     "shell.execute_reply": "2022-05-28T06:06:38.239158Z"
    },
    "papermill": {
     "duration": 23.010232,
     "end_time": "2022-05-28T06:06:38.242384",
     "exception": false,
     "start_time": "2022-05-28T06:06:15.232152",
     "status": "completed"
    },
    "tags": []
   },
   "outputs": [
    {
     "name": "stdout",
     "output_type": "stream",
     "text": [
      "Found 17755 validated image filenames belonging to 100 classes.\n"
     ]
    }
   ],
   "source": [
    "train_generator = train_datagen.flow_from_dataframe(\n",
    "    dataframe=train,\n",
    "    directory=train_dir,\n",
    "    x_col='image',\n",
    "    y_col='cultivar',\n",
    "    color_mode='rgb',\n",
    "    class_mode='categorical',\n",
    "    classes=labels,\n",
    "\n",
    "    \n",
    "    target_size=(256, 256),\n",
    "    batch_size=32,\n",
    "    subset='training',\n",
    "    shuffle=True\n",
    ")"
   ]
  },
  {
   "cell_type": "code",
   "execution_count": 11,
   "id": "ba67b4a1",
   "metadata": {
    "execution": {
     "iopub.execute_input": "2022-05-28T06:06:38.297760Z",
     "iopub.status.busy": "2022-05-28T06:06:38.297531Z",
     "iopub.status.idle": "2022-05-28T06:06:46.643174Z",
     "shell.execute_reply": "2022-05-28T06:06:46.642466Z"
    },
    "papermill": {
     "duration": 8.375584,
     "end_time": "2022-05-28T06:06:46.645086",
     "exception": false,
     "start_time": "2022-05-28T06:06:38.269502",
     "status": "completed"
    },
    "tags": []
   },
   "outputs": [
    {
     "name": "stdout",
     "output_type": "stream",
     "text": [
      "Found 4438 validated image filenames belonging to 100 classes.\n"
     ]
    }
   ],
   "source": [
    "valid_generator = train_datagen.flow_from_dataframe(\n",
    "    dataframe=train,\n",
    "    directory=train_dir,\n",
    "    x_col='image',\n",
    "    y_col='cultivar',\n",
    "    color_mode='rgb',\n",
    "   \n",
    "    class_mode='categorical',\n",
    "    classes=labels,\n",
    "    target_size=(256, 256),\n",
    "    batch_size=32,\n",
    "    subset='validation',\n",
    "    shuffle=True\n",
    ")"
   ]
  },
  {
   "cell_type": "code",
   "execution_count": 12,
   "id": "85d95cee",
   "metadata": {
    "execution": {
     "iopub.execute_input": "2022-05-28T06:06:46.696060Z",
     "iopub.status.busy": "2022-05-28T06:06:46.695508Z",
     "iopub.status.idle": "2022-05-28T06:06:46.844473Z",
     "shell.execute_reply": "2022-05-28T06:06:46.843809Z"
    },
    "papermill": {
     "duration": 0.176726,
     "end_time": "2022-05-28T06:06:46.846523",
     "exception": false,
     "start_time": "2022-05-28T06:06:46.669797",
     "status": "completed"
    },
    "tags": []
   },
   "outputs": [
    {
     "data": {
      "text/plain": [
       "95"
      ]
     },
     "execution_count": 12,
     "metadata": {},
     "output_type": "execute_result"
    }
   ],
   "source": [
    "gc.collect()"
   ]
  },
  {
   "cell_type": "markdown",
   "id": "de64cfef",
   "metadata": {
    "papermill": {
     "duration": 0.025615,
     "end_time": "2022-05-28T06:06:46.897646",
     "exception": false,
     "start_time": "2022-05-28T06:06:46.872031",
     "status": "completed"
    },
    "tags": []
   },
   "source": [
    "## PRE-TRAINED MODEL EFFICIENTNET B2- trained on data for 7 epochs"
   ]
  },
  {
   "cell_type": "code",
   "execution_count": 13,
   "id": "3252ff37",
   "metadata": {
    "execution": {
     "iopub.execute_input": "2022-05-28T06:06:46.949014Z",
     "iopub.status.busy": "2022-05-28T06:06:46.948409Z",
     "iopub.status.idle": "2022-05-28T06:06:51.822355Z",
     "shell.execute_reply": "2022-05-28T06:06:51.821583Z"
    },
    "papermill": {
     "duration": 4.902359,
     "end_time": "2022-05-28T06:06:51.824877",
     "exception": false,
     "start_time": "2022-05-28T06:06:46.922518",
     "status": "completed"
    },
    "tags": []
   },
   "outputs": [
    {
     "name": "stderr",
     "output_type": "stream",
     "text": [
      "2022-05-28 06:06:47.073061: I tensorflow/stream_executor/cuda/cuda_gpu_executor.cc:937] successful NUMA node read from SysFS had negative value (-1), but there must be at least one NUMA node, so returning NUMA node zero\n",
      "2022-05-28 06:06:47.195226: I tensorflow/stream_executor/cuda/cuda_gpu_executor.cc:937] successful NUMA node read from SysFS had negative value (-1), but there must be at least one NUMA node, so returning NUMA node zero\n",
      "2022-05-28 06:06:47.195977: I tensorflow/stream_executor/cuda/cuda_gpu_executor.cc:937] successful NUMA node read from SysFS had negative value (-1), but there must be at least one NUMA node, so returning NUMA node zero\n",
      "2022-05-28 06:06:47.197116: I tensorflow/core/platform/cpu_feature_guard.cc:142] This TensorFlow binary is optimized with oneAPI Deep Neural Network Library (oneDNN) to use the following CPU instructions in performance-critical operations:  AVX2 AVX512F FMA\n",
      "To enable them in other operations, rebuild TensorFlow with the appropriate compiler flags.\n",
      "2022-05-28 06:06:47.197437: I tensorflow/stream_executor/cuda/cuda_gpu_executor.cc:937] successful NUMA node read from SysFS had negative value (-1), but there must be at least one NUMA node, so returning NUMA node zero\n",
      "2022-05-28 06:06:47.198253: I tensorflow/stream_executor/cuda/cuda_gpu_executor.cc:937] successful NUMA node read from SysFS had negative value (-1), but there must be at least one NUMA node, so returning NUMA node zero\n",
      "2022-05-28 06:06:47.198879: I tensorflow/stream_executor/cuda/cuda_gpu_executor.cc:937] successful NUMA node read from SysFS had negative value (-1), but there must be at least one NUMA node, so returning NUMA node zero\n",
      "2022-05-28 06:06:49.348444: I tensorflow/stream_executor/cuda/cuda_gpu_executor.cc:937] successful NUMA node read from SysFS had negative value (-1), but there must be at least one NUMA node, so returning NUMA node zero\n",
      "2022-05-28 06:06:49.349266: I tensorflow/stream_executor/cuda/cuda_gpu_executor.cc:937] successful NUMA node read from SysFS had negative value (-1), but there must be at least one NUMA node, so returning NUMA node zero\n",
      "2022-05-28 06:06:49.349894: I tensorflow/stream_executor/cuda/cuda_gpu_executor.cc:937] successful NUMA node read from SysFS had negative value (-1), but there must be at least one NUMA node, so returning NUMA node zero\n",
      "2022-05-28 06:06:49.351144: I tensorflow/core/common_runtime/gpu/gpu_device.cc:1510] Created device /job:localhost/replica:0/task:0/device:GPU:0 with 15403 MB memory:  -> device: 0, name: Tesla P100-PCIE-16GB, pci bus id: 0000:00:04.0, compute capability: 6.0\n"
     ]
    }
   ],
   "source": [
    "model = keras.models.load_model('../input/training-sorghum-image-classification-xception-1-c/keras_model.h5', compile=False)"
   ]
  },
  {
   "cell_type": "markdown",
   "id": "442121bc",
   "metadata": {
    "papermill": {
     "duration": 0.026337,
     "end_time": "2022-05-28T06:06:51.879052",
     "exception": false,
     "start_time": "2022-05-28T06:06:51.852715",
     "status": "completed"
    },
    "tags": []
   },
   "source": [
    "### TEST PREDICTIONS"
   ]
  },
  {
   "cell_type": "code",
   "execution_count": 14,
   "id": "7a89abf3",
   "metadata": {
    "execution": {
     "iopub.execute_input": "2022-05-28T06:06:51.931189Z",
     "iopub.status.busy": "2022-05-28T06:06:51.930901Z",
     "iopub.status.idle": "2022-05-28T06:06:51.964996Z",
     "shell.execute_reply": "2022-05-28T06:06:51.964188Z"
    },
    "papermill": {
     "duration": 0.062617,
     "end_time": "2022-05-28T06:06:51.967080",
     "exception": false,
     "start_time": "2022-05-28T06:06:51.904463",
     "status": "completed"
    },
    "tags": []
   },
   "outputs": [
    {
     "data": {
      "text/html": [
       "<div>\n",
       "<style scoped>\n",
       "    .dataframe tbody tr th:only-of-type {\n",
       "        vertical-align: middle;\n",
       "    }\n",
       "\n",
       "    .dataframe tbody tr th {\n",
       "        vertical-align: top;\n",
       "    }\n",
       "\n",
       "    .dataframe thead th {\n",
       "        text-align: right;\n",
       "    }\n",
       "</style>\n",
       "<table border=\"1\" class=\"dataframe\">\n",
       "  <thead>\n",
       "    <tr style=\"text-align: right;\">\n",
       "      <th></th>\n",
       "      <th>filename</th>\n",
       "    </tr>\n",
       "  </thead>\n",
       "  <tbody>\n",
       "    <tr>\n",
       "      <th>0</th>\n",
       "      <td>1000005362.png</td>\n",
       "    </tr>\n",
       "    <tr>\n",
       "      <th>1</th>\n",
       "      <td>1000099707.png</td>\n",
       "    </tr>\n",
       "    <tr>\n",
       "      <th>2</th>\n",
       "      <td>1000135300.png</td>\n",
       "    </tr>\n",
       "    <tr>\n",
       "      <th>3</th>\n",
       "      <td>1000136796.png</td>\n",
       "    </tr>\n",
       "    <tr>\n",
       "      <th>4</th>\n",
       "      <td>1000292439.png</td>\n",
       "    </tr>\n",
       "  </tbody>\n",
       "</table>\n",
       "</div>"
      ],
      "text/plain": [
       "         filename\n",
       "0  1000005362.png\n",
       "1  1000099707.png\n",
       "2  1000135300.png\n",
       "3  1000136796.png\n",
       "4  1000292439.png"
      ]
     },
     "execution_count": 14,
     "metadata": {},
     "output_type": "execute_result"
    }
   ],
   "source": [
    "test=pd.read_csv('/kaggle/input/sorghum-id-fgvc-9/sample_submission.csv').drop('cultivar',axis=1)\n",
    "test.head()"
   ]
  },
  {
   "cell_type": "code",
   "execution_count": 15,
   "id": "c85fcd6b",
   "metadata": {
    "execution": {
     "iopub.execute_input": "2022-05-28T06:06:52.020718Z",
     "iopub.status.busy": "2022-05-28T06:06:52.020484Z",
     "iopub.status.idle": "2022-05-28T06:06:52.024895Z",
     "shell.execute_reply": "2022-05-28T06:06:52.024325Z"
    },
    "papermill": {
     "duration": 0.033117,
     "end_time": "2022-05-28T06:06:52.026433",
     "exception": false,
     "start_time": "2022-05-28T06:06:51.993316",
     "status": "completed"
    },
    "tags": []
   },
   "outputs": [],
   "source": [
    "test_dir='../input/sorghum-id-fgvc-9/test/'"
   ]
  },
  {
   "cell_type": "code",
   "execution_count": 16,
   "id": "dd111d75",
   "metadata": {
    "execution": {
     "iopub.execute_input": "2022-05-28T06:06:52.079445Z",
     "iopub.status.busy": "2022-05-28T06:06:52.079014Z",
     "iopub.status.idle": "2022-05-28T06:07:33.104301Z",
     "shell.execute_reply": "2022-05-28T06:07:33.103564Z"
    },
    "papermill": {
     "duration": 41.079823,
     "end_time": "2022-05-28T06:07:33.132058",
     "exception": false,
     "start_time": "2022-05-28T06:06:52.052235",
     "status": "completed"
    },
    "tags": []
   },
   "outputs": [
    {
     "name": "stdout",
     "output_type": "stream",
     "text": [
      "Found 23639 validated image filenames.\n"
     ]
    }
   ],
   "source": [
    "test_datagen=tf.keras.preprocessing.image.ImageDataGenerator()\n",
    "test_generator=test_datagen.flow_from_dataframe(test,test_dir, x_col='filename', color_mode='rgb', target_size=(256,256), shuffle=False, class_mode=None)"
   ]
  },
  {
   "cell_type": "code",
   "execution_count": 17,
   "id": "d5569715",
   "metadata": {
    "execution": {
     "iopub.execute_input": "2022-05-28T06:07:33.184894Z",
     "iopub.status.busy": "2022-05-28T06:07:33.184676Z",
     "iopub.status.idle": "2022-05-28T06:32:22.233228Z",
     "shell.execute_reply": "2022-05-28T06:32:22.232407Z"
    },
    "papermill": {
     "duration": 1489.077821,
     "end_time": "2022-05-28T06:32:22.235773",
     "exception": false,
     "start_time": "2022-05-28T06:07:33.157952",
     "status": "completed"
    },
    "tags": []
   },
   "outputs": [
    {
     "name": "stderr",
     "output_type": "stream",
     "text": [
      "2022-05-28 06:07:35.646163: I tensorflow/compiler/mlir/mlir_graph_optimization_pass.cc:185] None of the MLIR Optimization Passes are enabled (registered 2)\n",
      "2022-05-28 06:07:38.718287: I tensorflow/stream_executor/cuda/cuda_dnn.cc:369] Loaded cuDNN version 8005\n"
     ]
    }
   ],
   "source": [
    "oh_preds=model.predict(test_generator)"
   ]
  },
  {
   "cell_type": "code",
   "execution_count": 18,
   "id": "52eb1b40",
   "metadata": {
    "execution": {
     "iopub.execute_input": "2022-05-28T06:32:22.292060Z",
     "iopub.status.busy": "2022-05-28T06:32:22.291411Z",
     "iopub.status.idle": "2022-05-28T06:32:22.297732Z",
     "shell.execute_reply": "2022-05-28T06:32:22.297016Z"
    },
    "papermill": {
     "duration": 0.035583,
     "end_time": "2022-05-28T06:32:22.299398",
     "exception": false,
     "start_time": "2022-05-28T06:32:22.263815",
     "status": "completed"
    },
    "tags": []
   },
   "outputs": [
    {
     "data": {
      "text/plain": [
       "(23639, 100)"
      ]
     },
     "execution_count": 18,
     "metadata": {},
     "output_type": "execute_result"
    }
   ],
   "source": [
    "oh_preds.shape"
   ]
  },
  {
   "cell_type": "code",
   "execution_count": 19,
   "id": "48a6858c",
   "metadata": {
    "execution": {
     "iopub.execute_input": "2022-05-28T06:32:22.354476Z",
     "iopub.status.busy": "2022-05-28T06:32:22.353929Z",
     "iopub.status.idle": "2022-05-28T06:32:22.361373Z",
     "shell.execute_reply": "2022-05-28T06:32:22.360739Z"
    },
    "papermill": {
     "duration": 0.036733,
     "end_time": "2022-05-28T06:32:22.363097",
     "exception": false,
     "start_time": "2022-05-28T06:32:22.326364",
     "status": "completed"
    },
    "tags": []
   },
   "outputs": [],
   "source": [
    "pred_indices=np.argmax(oh_preds, axis=1)"
   ]
  },
  {
   "cell_type": "code",
   "execution_count": 20,
   "id": "97d7833a",
   "metadata": {
    "execution": {
     "iopub.execute_input": "2022-05-28T06:32:22.419753Z",
     "iopub.status.busy": "2022-05-28T06:32:22.419089Z",
     "iopub.status.idle": "2022-05-28T06:32:22.426592Z",
     "shell.execute_reply": "2022-05-28T06:32:22.425992Z"
    },
    "papermill": {
     "duration": 0.037866,
     "end_time": "2022-05-28T06:32:22.428221",
     "exception": false,
     "start_time": "2022-05-28T06:32:22.390355",
     "status": "completed"
    },
    "tags": []
   },
   "outputs": [],
   "source": [
    "predictions=[labels[i] for i in pred_indices]"
   ]
  },
  {
   "cell_type": "code",
   "execution_count": 21,
   "id": "2daa68bd",
   "metadata": {
    "execution": {
     "iopub.execute_input": "2022-05-28T06:32:22.483586Z",
     "iopub.status.busy": "2022-05-28T06:32:22.483125Z",
     "iopub.status.idle": "2022-05-28T06:32:22.493103Z",
     "shell.execute_reply": "2022-05-28T06:32:22.492451Z"
    },
    "papermill": {
     "duration": 0.039504,
     "end_time": "2022-05-28T06:32:22.494975",
     "exception": false,
     "start_time": "2022-05-28T06:32:22.455471",
     "status": "completed"
    },
    "tags": []
   },
   "outputs": [],
   "source": [
    "test['cultivar']=predictions"
   ]
  },
  {
   "cell_type": "code",
   "execution_count": 22,
   "id": "9be3b7d9",
   "metadata": {
    "execution": {
     "iopub.execute_input": "2022-05-28T06:32:22.550127Z",
     "iopub.status.busy": "2022-05-28T06:32:22.549712Z",
     "iopub.status.idle": "2022-05-28T06:32:22.558938Z",
     "shell.execute_reply": "2022-05-28T06:32:22.558301Z"
    },
    "papermill": {
     "duration": 0.038467,
     "end_time": "2022-05-28T06:32:22.560582",
     "exception": false,
     "start_time": "2022-05-28T06:32:22.522115",
     "status": "completed"
    },
    "tags": []
   },
   "outputs": [
    {
     "data": {
      "text/html": [
       "<div>\n",
       "<style scoped>\n",
       "    .dataframe tbody tr th:only-of-type {\n",
       "        vertical-align: middle;\n",
       "    }\n",
       "\n",
       "    .dataframe tbody tr th {\n",
       "        vertical-align: top;\n",
       "    }\n",
       "\n",
       "    .dataframe thead th {\n",
       "        text-align: right;\n",
       "    }\n",
       "</style>\n",
       "<table border=\"1\" class=\"dataframe\">\n",
       "  <thead>\n",
       "    <tr style=\"text-align: right;\">\n",
       "      <th></th>\n",
       "      <th>filename</th>\n",
       "      <th>cultivar</th>\n",
       "    </tr>\n",
       "  </thead>\n",
       "  <tbody>\n",
       "    <tr>\n",
       "      <th>0</th>\n",
       "      <td>1000005362.png</td>\n",
       "      <td>PI_180348</td>\n",
       "    </tr>\n",
       "    <tr>\n",
       "      <th>1</th>\n",
       "      <td>1000099707.png</td>\n",
       "      <td>PI_329333</td>\n",
       "    </tr>\n",
       "    <tr>\n",
       "      <th>2</th>\n",
       "      <td>1000135300.png</td>\n",
       "      <td>PI_176766</td>\n",
       "    </tr>\n",
       "    <tr>\n",
       "      <th>3</th>\n",
       "      <td>1000136796.png</td>\n",
       "      <td>PI_329256</td>\n",
       "    </tr>\n",
       "    <tr>\n",
       "      <th>4</th>\n",
       "      <td>1000292439.png</td>\n",
       "      <td>PI_155516</td>\n",
       "    </tr>\n",
       "  </tbody>\n",
       "</table>\n",
       "</div>"
      ],
      "text/plain": [
       "         filename   cultivar\n",
       "0  1000005362.png  PI_180348\n",
       "1  1000099707.png  PI_329333\n",
       "2  1000135300.png  PI_176766\n",
       "3  1000136796.png  PI_329256\n",
       "4  1000292439.png  PI_155516"
      ]
     },
     "execution_count": 22,
     "metadata": {},
     "output_type": "execute_result"
    }
   ],
   "source": [
    "test.head()"
   ]
  },
  {
   "cell_type": "code",
   "execution_count": 23,
   "id": "8950a86b",
   "metadata": {
    "execution": {
     "iopub.execute_input": "2022-05-28T06:32:22.617111Z",
     "iopub.status.busy": "2022-05-28T06:32:22.616596Z",
     "iopub.status.idle": "2022-05-28T06:32:22.668174Z",
     "shell.execute_reply": "2022-05-28T06:32:22.667270Z"
    },
    "papermill": {
     "duration": 0.081706,
     "end_time": "2022-05-28T06:32:22.669890",
     "exception": false,
     "start_time": "2022-05-28T06:32:22.588184",
     "status": "completed"
    },
    "tags": []
   },
   "outputs": [],
   "source": [
    "test.to_csv('submission.csv', index=False)"
   ]
  },
  {
   "cell_type": "code",
   "execution_count": 24,
   "id": "d8ea3cbc",
   "metadata": {
    "execution": {
     "iopub.execute_input": "2022-05-28T06:32:22.727537Z",
     "iopub.status.busy": "2022-05-28T06:32:22.727053Z",
     "iopub.status.idle": "2022-05-28T06:32:23.212134Z",
     "shell.execute_reply": "2022-05-28T06:32:23.211201Z"
    },
    "papermill": {
     "duration": 0.516323,
     "end_time": "2022-05-28T06:32:23.214417",
     "exception": false,
     "start_time": "2022-05-28T06:32:22.698094",
     "status": "completed"
    },
    "tags": []
   },
   "outputs": [
    {
     "name": "stderr",
     "output_type": "stream",
     "text": [
      "/opt/conda/lib/python3.7/site-packages/keras/utils/generic_utils.py:497: CustomMaskWarning: Custom mask layers require a config and must override get_config. When loading, the custom mask layer must be passed to the custom_objects argument.\n",
      "  category=CustomMaskWarning)\n"
     ]
    }
   ],
   "source": [
    "\n",
    "model.save('model1.h5')"
   ]
  }
 ],
 "metadata": {
  "kernelspec": {
   "display_name": "Python 3",
   "language": "python",
   "name": "python3"
  },
  "language_info": {
   "codemirror_mode": {
    "name": "ipython",
    "version": 3
   },
   "file_extension": ".py",
   "mimetype": "text/x-python",
   "name": "python",
   "nbconvert_exporter": "python",
   "pygments_lexer": "ipython3",
   "version": "3.7.12"
  },
  "papermill": {
   "default_parameters": {},
   "duration": 1585.830187,
   "end_time": "2022-05-28T06:32:26.119797",
   "environment_variables": {},
   "exception": null,
   "input_path": "__notebook__.ipynb",
   "output_path": "__notebook__.ipynb",
   "parameters": {},
   "start_time": "2022-05-28T06:06:00.289610",
   "version": "2.3.4"
  }
 },
 "nbformat": 4,
 "nbformat_minor": 5
}
